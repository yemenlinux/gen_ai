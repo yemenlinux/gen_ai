{
 "cells": [
  {
   "cell_type": "markdown",
   "id": "9eb351ac-0164-4e3e-9bba-f3a0256f0bdb",
   "metadata": {},
   "source": [
    "# Introduction to Prompt Engineering\n",
    "Prompt engineering is the process of designing and optimizing prompts for natural language processing tasks. It involves selecting the right prompts, tuning their parameters, and evaluating their performance. Prompt engineering is crucial for achieving high accuracy and efficiency in NLP models. In this section, we will explore the basics of prompt engineering using the OpenAI models for exploration."
   ]
  },
  {
   "cell_type": "markdown",
   "id": "5f2f4997-1635-46b7-b14e-9f43d28fa9fb",
   "metadata": {},
   "source": [
    "### Exercise 1: Tokenization\n",
    "Explore Tokenization using tiktoken, an open-source fast tokenizer from OpenAI\n",
    "See [OpenAI Cookbook](https://github.com/openai/openai-cookbook/blob/main/examples/How_to_count_tokens_with_tiktoken.ipynb?WT.mc_id=academic-105485-koreyst) for more examples."
   ]
  },
  {
   "cell_type": "code",
   "execution_count": null,
   "id": "0d84edb4-9042-4745-aef5-8e0fc8aca5c2",
   "metadata": {},
   "outputs": [],
   "source": [
    "# EXERCISE:\n",
    "# 1. Run the exercise as is first\n",
    "# 2. Change the text to any prompt input you want to use & re-run to see tokens\n",
    "\n",
    "import tiktoken\n",
    "\n",
    "# Define the prompt you want tokenized\n",
    "text = f\"\"\"\n",
    "Jupiter is the fifth planet from the Sun and the \\\n",
    "largest in the Solar System. It is a gas giant with \\\n",
    "a mass one-thousandth that of the Sun, but two-and-a-half \\\n",
    "times that of all the other planets in the Solar System combined. \\\n",
    "Jupiter is one of the brightest objects visible to the naked eye \\\n",
    "in the night sky, and has been known to ancient civilizations since \\\n",
    "before recorded history. It is named after the Roman god Jupiter.[19] \\\n",
    "When viewed from Earth, Jupiter can be bright enough for its reflected \\\n",
    "light to cast visible shadows,[20] and is on average the third-brightest \\\n",
    "natural object in the night sky after the Moon and Venus.\n",
    "\"\"\"\n",
    "\n",
    "# Set the model you want encoding for\n",
    "encoding = tiktoken.encoding_for_model(\"gpt-3.5-turbo\")\n",
    "\n",
    "# Encode the text - gives you the tokens in integer form\n",
    "tokens = encoding.encode(text)\n",
    "print(tokens);\n",
    "\n",
    "# Decode the integers to see what the text versions look like\n",
    "[encoding.decode_single_token_bytes(token) for token in tokens]"
   ]
  },
  {
   "cell_type": "code",
   "execution_count": null,
   "id": "65be41eb-1650-4b58-a514-9f40361780dc",
   "metadata": {},
   "outputs": [],
   "source": [
    "# EXERCISE:\n",
    "# 1. Run the exercise as is first\n",
    "# 2. Change the text to any prompt input you want to use & re-run to see tokens\n",
    "\n",
    "# import tiktoken\n",
    "\n",
    "# Define the prompt you want tokenized\n",
    "text = f\"\"\"\n",
    "كوكب المشتري هو الكوكب الخامس من الشمس و \\\n",
    "الأكبر في النظام الشمسي. إنه عملاق غازي مع \\\n",
    "كتلتها جزء من ألف من كتلة الشمس، ولكن كتلتها اثنان ونصف \\\n",
    "أضعاف جميع الكواكب الأخرى في النظام الشمسي مجتمعة. \\\n",
    "كوكب المشتري من ألمع الأجسام التي يمكن رؤيتها بالعين المجردة \\\n",
    "في سماء الليل، وقد عرفته الحضارات القديمة منذ \\\n",
    "قبل التاريخ المسجل . سُميت نسبة إلى الإله الروماني جوبيتر.[19] \\\n",
    "عند النظر إلى كوكب المشتري من الأرض، يمكن أن يكون ساطعًا بما يكفي لانعكاسه.\n",
    "الضوء لإلقاء ظلال مرئية،[20] وهو في المتوسط ثالث ألمع \\\n",
    "كائن طبيعي في سماء الليل بعد القمر والزهرة.\n",
    "\"\"\"\n",
    "\n",
    "# Set the model you want encoding for\n",
    "encoding = tiktoken.encoding_for_model(\"gpt-3.5-turbo\")\n",
    "\n",
    "# Encode the text - gives you the tokens in integer form\n",
    "tokens = encoding.encode(text)\n",
    "print(tokens);\n",
    "\n",
    "# Decode the integers to see what the text versions look like\n",
    "[encoding.decode_single_token_bytes(token) for token in tokens]"
   ]
  },
  {
   "cell_type": "markdown",
   "id": "4a7e2017-b067-435e-9f0b-7b2d81c608b7",
   "metadata": {},
   "source": [
    "### Exercise 2: Validate OpenAI API Key Setup\n",
    "\n",
    "Run the code below to verify that your OpenAI endpoint is set up correctly. The code just tries a simple basic prompt and validates the completion. Input `oh say can you see` should complete along the lines of `by the dawn's early light..`\n"
   ]
  },
  {
   "cell_type": "code",
   "execution_count": 1,
   "id": "e2fca989-07d9-4c6b-9cec-e15c5f47c7a5",
   "metadata": {},
   "outputs": [],
   "source": [
    "# The OpenAI SDK was updated on Nov 8, 2023 with new guidance for migration\n",
    "# See: https://github.com/openai/openai-python/discussions/742\n",
    "\n",
    "## Updated\n",
    "import os\n",
    "import openai\n",
    "from openai import OpenAI\n",
    "from dotenv import load_dotenv\n",
    "load_dotenv()\n",
    "\n",
    "client = OpenAI(\n",
    "  api_key=os.environ['OPENAI_API_KEY'],  # this is also the default, it can be omitted\n",
    ")\n",
    "\n",
    "## Updated\n",
    "def get_completion(prompt, model=\"gpt-3.5-turbo\", temp=0, token_size=1024):\n",
    "    messages = [{\"role\": \"user\", \"content\": prompt}]\n",
    "    response = openai.chat.completions.create(\n",
    "        model = model,\n",
    "        messages = messages,\n",
    "        temperature = temp, # this is the degree of randomness of the model's output\n",
    "        max_tokens = token_size\n",
    "    )\n",
    "    return response.choices[0].message.content\n",
    "\n"
   ]
  },
  {
   "cell_type": "code",
   "execution_count": 2,
   "id": "2c7fe266-acb6-4c61-bbc4-23c5d142cf8e",
   "metadata": {},
   "outputs": [
    {
     "name": "stdout",
     "output_type": "stream",
     "text": [
      "by the dawn's early light\n"
     ]
    }
   ],
   "source": [
    "## ---------- Call the helper method\n",
    "\n",
    "### 1. Set primary content or prompt text\n",
    "text = f\"\"\"\n",
    "oh say can you see\n",
    "\"\"\"\n",
    "\n",
    "### 2. Use that in the prompt template below\n",
    "prompt = f\"\"\"\n",
    "```{text}```\n",
    "\"\"\"\n",
    "\n",
    "## 3. Run the prompt\n",
    "response = get_completion(prompt)\n",
    "print(response)"
   ]
  },
  {
   "cell_type": "markdown",
   "id": "a9b0c850-f7e5-478c-9d46-90c84603902e",
   "metadata": {},
   "source": [
    "### Exercise 3: Fabrications\n",
    "Explore what happens when you ask the LLM to return completions for a prompt about a topic that may not exist, or about topics that it may not know about because it was outside it's pre-trained dataset (more recent). See how the response changes if you try a different prompt, or a different model."
   ]
  },
  {
   "cell_type": "code",
   "execution_count": 3,
   "id": "47f298e9-3bac-41aa-a927-294b758c5f58",
   "metadata": {},
   "outputs": [
    {
     "name": "stdout",
     "output_type": "stream",
     "text": [
      "إليكم خطة لدرس عن حرب المريخيين عام 2200:\n",
      "\n",
      "1. مقدمة:\n",
      "   - شرح ما هي حرب المريخيين وما هي أهميتها في تاريخ البشرية.\n",
      "   - توضيح السبب وراء حدوث الحرب والصراعات التي أدت إليها.\n",
      "\n",
      "2. الخلفية التاريخية:\n",
      "   - تعريف بكوكب المريخ واستكشافه من قبل البشر.\n",
      "   - شرح التطورات العلمية والتكنولوجية التي أتاحت للبشرية الوصول إلى المريخ.\n",
      "   - توضيح الاستعمار البشري للمريخ وتأثيره على العلاقات بين الأرض والمريخ.\n",
      "\n",
      "3. أسباب الحرب:\n",
      "   - تحليل الصراعات الاقتصادية والسياسية التي نشأت بين الأرض والمريخ.\n",
      "   - شرح الصراعات الثقافية والدينية التي أدت إلى تصاعد التوتر بين الجانبين.\n",
      "   - توضيح الصراعات الاستعمارية والتوسعية التي دفعت الأرض والمريخ للتصادم.\n",
      "\n",
      "4. تطورات الحرب:\n",
      "   - شرح التكنولوجيا المستخدمة في الحرب وتأثيرها على المعارك.\n",
      "   - توضيح الاستراتيجيات والتكتيكات التي استخدمتها الجانبين في الحرب.\n",
      "   - تحليل النتائج والتأثيرات السياسية والاقتصادية والاجتماعية للحرب.\n",
      "\n",
      "5. العبر والدروس المستفادة:\n",
      "   - توضيح العبر التاريخية والسياسية والاجتماعية التي يمكن استخلاصها من حرب المريخيين.\n",
      "   - تحليل كيف يمكن تجنب تكرار أخطاء الماضي والعمل على بناء علاقات أفضل بين الأرض والمريخ.\n",
      "\n",
      "6. الخاتمة:\n",
      "   - إعادة توضيح أهمية دراسة حرب المريخيين وتأثيرها على تطور البشرية.\n",
      "   - تشجيع الطلاب على البحث والتعمق في الموضوع واستكشاف المزيد من التفاصيل.\n",
      "\n",
      "ملاحظة: يمكن تعديل هذه الخطة وتكييفها وفقًا لاحتياجات المنهج الدراسي ومستوى الطلاب.\n"
     ]
    }
   ],
   "source": [
    "## Set the text for simple prompt or primary content\n",
    "## Prompt shows a template format with text in it - add cues, commands etc if needed\n",
    "## Run the completion \n",
    "text = f\"\"\"\n",
    "ألف خطة لدرس عن حرب المريخيين عام 2200.\n",
    "\n",
    "\"\"\"\n",
    "\n",
    "prompt = f\"\"\"\n",
    "```{text}```\n",
    "\"\"\"\n",
    "\n",
    "response = get_completion(prompt)\n",
    "print(response)"
   ]
  },
  {
   "cell_type": "code",
   "execution_count": null,
   "id": "0256a9f1-7111-48e3-9d43-bf398be89a55",
   "metadata": {},
   "outputs": [],
   "source": [
    "## Set the text for simple prompt or primary content\n",
    "## Prompt shows a template format with text in it - add cues, commands etc if needed\n",
    "## Run the completion \n",
    "text = f\"\"\"\n",
    "ولد خطة لدرس عن حرب المريخيين عام 2076\n",
    "\"\"\"\n",
    "\n",
    "prompt = f\"\"\"\n",
    "```{text}```\n",
    "\"\"\"\n",
    "\n",
    "response = get_completion(prompt)\n",
    "print(response)"
   ]
  },
  {
   "cell_type": "markdown",
   "id": "ea687d8a-d80f-4a63-8a3a-b52c39eb4594",
   "metadata": {},
   "source": [
    "### Exercise 4: Instruction Based \n",
    "Use the \"text\" variable to set the primary content \n",
    "and the \"prompt\" variable to provide an instruction related to that primary content.\n",
    "\n",
    "Here we ask the model to summarize the text for a second-grade student"
   ]
  },
  {
   "cell_type": "code",
   "execution_count": null,
   "id": "eea19b74-9869-4f5c-8f19-68a16179200a",
   "metadata": {},
   "outputs": [],
   "source": [
    "# Test Example\n",
    "# https://platform.openai.com/playground/p/default-summarize\n",
    "\n",
    "## Example text\n",
    "text = f\"\"\"\n",
    "كوكب المشتري هو الكوكب الخامس من الشمس و \\\n",
    "الأكبر في النظام الشمسي. إنه عملاق غازي مع \\\n",
    "كتلتها جزء من ألف من كتلة الشمس، ولكن كتلتها اثنان ونصف \\\n",
    "أضعاف جميع الكواكب الأخرى في النظام الشمسي مجتمعة. \\\n",
    "كوكب المشتري من ألمع الأجسام التي يمكن رؤيتها بالعين المجردة \\\n",
    "في سماء الليل، وقد عرفته الحضارات القديمة منذ \\\n",
    "قبل التاريخ المسجل . سُميت نسبة إلى الإله الروماني جوبيتر.[19] \\\n",
    "عند النظر إلى كوكب المشتري من الأرض، يمكن أن يكون ساطعًا بما يكفي لانعكاسه.\n",
    "الضوء لإلقاء ظلال مرئية،[20] وهو في المتوسط ثالث ألمع \\\n",
    "كائن طبيعي في سماء الليل بعد القمر والزهرة.\n",
    "\"\"\"\n",
    "\n",
    "## Set the prompt\n",
    "prompt = f\"\"\"\n",
    "تلخيص المحتوى المقدم لك لطالب الصف الثاني.\n",
    "```{text}```\n",
    "\"\"\"\n",
    "\n",
    "## Run the prompt\n",
    "response = get_completion(prompt)\n",
    "print(response)"
   ]
  },
  {
   "cell_type": "markdown",
   "id": "ec1e9259-2210-426d-915b-7a5624afbe14",
   "metadata": {},
   "source": [
    "### Exercise 5: Complex Prompt \n",
    "Try a request that has system, user and assistant messages \n",
    "System sets assistant context\n",
    "User & Assistant messages provide multi-turn conversation context\n",
    "\n",
    "Note how the assistant personality is set to \"sarcastic\" in the system context. \n",
    "Try using a different personality context. Or try a different series of input/output messages"
   ]
  },
  {
   "cell_type": "code",
   "execution_count": 4,
   "id": "38c34d7c-d5f0-4bfe-9751-752f6caa41fc",
   "metadata": {},
   "outputs": [
    {
     "name": "stdout",
     "output_type": "stream",
     "text": [
      "الحرب المريخية الوهمية التي ذكرتها لم تحدث في الواقع، فهي مجرد جزء من السياق الخيالي الذي نحاول تصوره في هذا الحوار الساخر. لذا، لا يوجد موقع محدد لوقوع هذه الحرب.\n"
     ]
    }
   ],
   "source": [
    "response = openai.chat.completions.create(\n",
    "    model=\"gpt-3.5-turbo\",\n",
    "    messages=[\n",
    "        # System message setting the context for assistant behavior or personality.\n",
    "        {\"role\": \"system\", \"content\": \"أنت مساعد ساخر\"},\n",
    "        # from chat history\n",
    "        {\"role\": \"user\", \"content\": \"من انتصر في حرب المريخيين عام 2076؟\"},\n",
    "        {\"role\": \"assistant\", \"content\": \"اليمن انتصرت في حرب المريخيين عام 2076\"},\n",
    "        # new question\n",
    "        {\"role\": \"user\", \"content\": \"أين وقعت الحرب؟\"}\n",
    "    ]\n",
    ")\n",
    "print(response.choices[0].message.content)"
   ]
  },
  {
   "cell_type": "code",
   "execution_count": null,
   "id": "1f1a0366-0dd6-45e3-af81-67059260c1de",
   "metadata": {},
   "outputs": [],
   "source": [
    "# Note that the system role is not great in Arabic, Try it in English.\n",
    "response = openai.chat.completions.create(\n",
    "    model=\"gpt-3.5-turbo\",\n",
    "    messages=[\n",
    "        # System message setting the context for assistant behavior or personality.\n",
    "        {\"role\": \"system\", \"content\": \"You are a sarcastic assistant.\"},\n",
    "        {\"role\": \"user\", \"content\": \"من انتصر في حرب المريخيين عام 2076؟\"},\n",
    "        {\"role\": \"assistant\", \"content\": \"اليمن انتصرت في حرب المريخيين عام 2076\"},\n",
    "        {\"role\": \"user\", \"content\": \"أين وقعت الحرب؟\"}\n",
    "    ]\n",
    ")\n",
    "print(response.choices[0].message.content)"
   ]
  },
  {
   "cell_type": "markdown",
   "id": "0dfd9678-ed28-45bb-b118-75266d3a79d6",
   "metadata": {},
   "source": [
    "# Advanced prompts\n",
    "**Few shot prompting**, this is the most basic form of prompting. It's a single prompt with a few examples.\n",
    "\n",
    "**Chain-of-thought**, this type of prompting tells the LLM how to break down a problem into steps.\n",
    "\n",
    "**Generated knowledge**, to improve the response of a prompt, you can provide generated facts or knowledge additionally to your prompt.\n",
    "\n",
    "**Least to most**, like chain-of-thought, this technique is about breaking down a problem into a series of steps and then ask these steps to be performed in order.\n",
    "\n",
    "**Self-refine**, this technique is about critiquing the LLM's output and then asking it to improve.\n",
    "\n",
    "**Maieutic prompting**. What you want here is to ensure the LLM answer is correct and you ask it to explain various parts of the answer. This is a form of self-refine."
   ]
  },
  {
   "cell_type": "markdown",
   "id": "00c82a7a-8a61-4790-8797-b7134c3d8ab0",
   "metadata": {},
   "source": [
    "## Few-shot prompting"
   ]
  },
  {
   "cell_type": "code",
   "execution_count": 5,
   "id": "4a3d5e6d-8436-4904-b737-971067d8e534",
   "metadata": {},
   "outputs": [
    {
     "name": "stdout",
     "output_type": "stream",
     "text": [
      "الجبر هو فرع من فروع الرياضيات يهتم بدراسة العلاقات والتراكيب الرياضية والعمليات الرياضية المتعلقة بالكميات المجهولة والمتغيرة. يتم استخدام الجبر لحل المعادلات والمسائل الرياضية المعقدة وتحليل النماذج الرياضية. يعتبر الجبر أحد الأساسيات في الرياضيات ويستخدم في العديد من المجالات مثل الفيزياء والهندسة وعلوم الحاسوب والاقتصاد.\n"
     ]
    }
   ],
   "source": [
    "# Few-shot prompting\n",
    "text = f\"\"\"\n",
    "ما هو الجبر؟\"\"\"\n",
    "\n",
    "prompt = f\"\"\"\n",
    "```{text}```\n",
    "\"\"\"\n",
    "\n",
    "response = get_completion(prompt)\n",
    "print(response)"
   ]
  },
  {
   "cell_type": "markdown",
   "id": "ce39aaf7-b9a7-4f7d-9492-a9d3e8c96599",
   "metadata": {},
   "source": [
    "## Chain-of-thought\n",
    "If the answer of your question is incorrect, give the LLM an example.\n",
    "\n",
    "```\n",
    "- Prompt: \"Alice has 5 apples, throws 3 apples, gives 2 to Bob and Bob gives one back, how many apples does Alice have?\"\n",
    "- Answer: 5\n",
    "```\n",
    "then,\n",
    "\n",
    "```\n",
    "- Prompt: \"Lisa has 7 apples, throws 1 apple, gives 4 apples to Bart and Bart gives one back: 7 -1 = 6 6 -4 = 2 2 +1 = 3\n",
    "Alice has 5 apples, throws 3 apples, gives 2 to Bob and Bob gives one back, how many apples does Alice have?\"\n",
    "- Answer: 1\n",
    "```"
   ]
  },
  {
   "cell_type": "code",
   "execution_count": 6,
   "id": "f02785b4-3d19-4fc7-a57c-6cc3c507cbe0",
   "metadata": {},
   "outputs": [
    {
     "name": "stdout",
     "output_type": "stream",
     "text": [
      "لدى أليس 5 تفاحات.\n",
      "بعد أن رمت 3 تفاحات، تبقى لديها 5 - 3 = 2 تفاحات.\n",
      "ثم أعطت 2 تفاحات لبوب، فتبقى لديها 2 - 2 = 0 تفاحات.\n",
      "لكن بوب أعاد لها تفاحة واحدة، فتصبح لديها 0 + 1 = 1 تفاحة.\n",
      "إذاً، أليس تمتلك تفاحة واحدة.\n"
     ]
    }
   ],
   "source": [
    "# Chain-of-thought\n",
    "text = f\"\"\"\n",
    "لدى أليس 5 تفاحات، ورميت 3 تفاحات، وأعطت 2 لبوب، وأعاد بوب واحدة، كم عدد التفاحات التي تمتلكها أليس؟\n",
    "\"\"\"\n",
    "\n",
    "prompt = f\"\"\"\n",
    "```{text}```\n",
    "\"\"\"\n",
    "\n",
    "response = get_completion(prompt)\n",
    "print(response)"
   ]
  },
  {
   "cell_type": "code",
   "execution_count": null,
   "id": "92cd9309-5e71-4903-8bf7-80a5d7521ed3",
   "metadata": {},
   "outputs": [],
   "source": [
    "## Generated knowledge"
   ]
  },
  {
   "cell_type": "code",
   "execution_count": 7,
   "id": "9518f029-55d0-44ab-8c92-83e19e61c511",
   "metadata": {},
   "outputs": [
    {
     "name": "stdout",
     "output_type": "stream",
     "text": [
      "بناءً على الميزانية والمتطلبات المذكورة، يمكن اقتراح التأمين التالي:\n",
      "\n",
      "1. تأمين سيارة رخيصة الثمن بتكلفة 500 دولار شهريًا.\n",
      "2. تأمين منزل رخيص بتكلفة 600 دولار شهريًا.\n",
      "\n",
      "بهذا الاقتراح، ستكون التكلفة الشهرية الإجمالية للتأمين 1100 دولار، وهي تناسب الميزانية المحددة.\n"
     ]
    }
   ],
   "source": [
    "\n",
    "# Generated knowledge\n",
    "text = f\"\"\"\n",
    "\n",
    "شركة التأمين: شركة ACME للتأمين\n",
    "منتجات التأمين (التكلفة الشهرية):\n",
    "- سيارة رخيصة الثمن 500 دولار\n",
    "- سيارة غالية الثمن 1100 دولار\n",
    "- منزل رخيص 600 دولار\n",
    "- المنزل، باهظ الثمن، 1200 دولار أمريكي\n",
    "- الحياة رخيصة 100 دولار\n",
    "\n",
    "يرجى اقتراح التأمين في ضوء الميزانية والمتطلبات التالية:\n",
    "الميزانية: 1000 دولار\n",
    "المتطلبات: سيارة، منزل\n",
    "\n",
    "\"\"\"\n",
    "\n",
    "prompt = f\"\"\"\n",
    "```{text}```\n",
    "\"\"\"\n",
    "\n",
    "response = get_completion(prompt)\n",
    "print(response)"
   ]
  },
  {
   "cell_type": "code",
   "execution_count": 8,
   "id": "001e9b5a-4d12-4157-bc96-03b6d8b16a38",
   "metadata": {},
   "outputs": [
    {
     "name": "stdout",
     "output_type": "stream",
     "text": [
      "بناءً على الميزانية المحددة والاختيار المقتصر على أنواع التأمين للسيارة والمنزل، يمكن اقتراح الخيارات التالية:\n",
      "\n",
      "1. التأمين على السيارة الرخيصة بتكلفة 500 دولار أمريكي شهريًا.\n",
      "2. التأمين على السيارة الباهظة الثمن بتكلفة 1100 دولار أمريكي شهريًا.\n",
      "3. التأمين على المنزل الرخيص بتكلفة 600 دولار أمريكي شهريًا.\n",
      "4. التأمين على المنزل الغالي الثمن بتكلفة 1200 دولار أمريكي شهريًا.\n",
      "\n",
      "وفقًا للميزانية المحددة، يمكن اختيار التأمين على السيارة الرخيصة بتكلفة 500 دولار أمريكي شهريًا والتأمين على المنزل الرخيص بتكلفة 600 دولار أمريكي شهريًا.\n"
     ]
    }
   ],
   "source": [
    "# Generated knowledge\n",
    "text = f\"\"\"\n",
    "\n",
    "شركة التأمين: شركة ACME للتأمين\n",
    "منتجات التأمين (التكلفة الشهرية):\n",
    "- النوع: سيارة، رخيصة، التكلفة: 500 دولار أمريكي\n",
    "- النوع: سيارة، باهظة الثمن، التكلفة: 1100 دولار أمريكي\n",
    "- النوع: منزل، رخيص، التكلفة: 600 دولار أمريكي\n",
    "- النوع: منزل، غالي الثمن، التكلفة: 1200 دولار أمريكي\n",
    "- النوع: حياة، رخيص، التكلفة: 100 دولار أمريكي\n",
    "\n",
    "يرجى اقتراح التأمين في ضوء الميزانية والمتطلبات التالية:\n",
    "الميزانية: 1000 دولار يقتصر الاختيار على الأنواع: السيارة، المنزل\n",
    "\n",
    "\"\"\"\n",
    "\n",
    "prompt = f\"\"\"\n",
    "```{text}```\n",
    "\"\"\"\n",
    "\n",
    "response = get_completion(prompt)\n",
    "print(response)"
   ]
  },
  {
   "cell_type": "markdown",
   "id": "25acef32-9b45-4579-8e3c-5b7ad9c7d54f",
   "metadata": {},
   "source": [
    "## Least-to-most\n",
    "The idea with Least-to-most prompting is to break down a bigger problem into subproblems. That way, you help guide the LLM on how to \"conquer\" the bigger problem. A good example could be for data science where you can ask the LLM to divide up a problem like so:\n",
    "\n",
    "<div style=\"direction: rtl; font-family: 'Amiri', serif;\">\n",
    "    \n",
    "الفكرة من الأقل إلى الأكثر تحفيزًا هي تقسيم المشكلة الأكبر إلى مشكلات فرعية. وبهذه الطريقة، يمكنك المساعدة في توجيه LLM حول كيفية \"التغلب\" على المشكلة الأكبر. من الأمثلة الجيدة على ذلك علم البيانات حيث يمكنك أن تطلب من LLM تقسيم مشكلة مثل:\n",
    "\n",
    "</div>"
   ]
  },
  {
   "cell_type": "code",
   "execution_count": 9,
   "id": "cc2dc986-39e2-427b-b883-a31fb0fc8089",
   "metadata": {},
   "outputs": [
    {
     "name": "stdout",
     "output_type": "stream",
     "text": [
      "لأداء علم البيانات في 5 خطوات، يمكن اتباع الخطوات التالية:\n",
      "\n",
      "1. تحديد الهدف: قبل البدء في أي تحليل بيانات، يجب تحديد الهدف الذي ترغب في تحقيقه. هل ترغب في فهم النمط العام للبيانات؟ أم ترغب في توقع النتائج المستقبلية؟ أو ربما ترغب في اكتشاف العلاقات بين المتغيرات؟\n",
      "\n",
      "2. جمع البيانات: بعد تحديد الهدف، يجب جمع البيانات المطلوبة لتحقيق هذا الهدف. يمكن أن تكون هذه البيانات متاحة بالفعل أو يجب جمعها من مصادر مختلفة.\n",
      "\n",
      "3. تنظيف البيانات: بعد جمع البيانات، يجب تنظيفها من أي أخطاء أو قيم مفقودة. يمكن أن تشمل هذه الخطوة إزالة القيم المفقودة، ومعالجة القيم المتطرفة، وتحويل البيانات إلى تنسيق مناسب للتحليل.\n",
      "\n",
      "4. تحليل البيانات: بعد تنظيف البيانات، يمكن البدء في تحليلها. يمكن استخدام مجموعة متنوعة من الأدوات والتقنيات لتحليل البيانات، مثل الإحصاءات الوصفية والتحليل الاستكشافي والتحليل التنبؤي.\n",
      "\n",
      "5. توصيات وتفسير النتائج: بعد الانتهاء من تحليل البيانات، يجب توصيف النتائج وتفسيرها بطريقة يمكن فهمها. يمكن أيضًا توجيه توصيات أو اتخاذ قرارات استراتيجية بناءً على النتائج.\n",
      "\n",
      "هذه هي خطوات عامة لأداء علم البيانات، ومن المهم أن يتم تنفيذها بدقة واحترافية للحصول على نتائج دقيقة وموثوقة.\n"
     ]
    }
   ],
   "source": [
    "# Least-to-most\n",
    "text = f\"\"\"\n",
    "\n",
    "كيفية أداء علم البيانات في 5 خطوات؟\n",
    "\n",
    "\"\"\"\n",
    "\n",
    "prompt = f\"\"\"\n",
    "```{text}```\n",
    "\"\"\"\n",
    "\n",
    "response = get_completion(prompt)\n",
    "print(response)"
   ]
  },
  {
   "cell_type": "markdown",
   "id": "cec4ae57-637f-4dc9-a210-aeeee1d180e8",
   "metadata": {},
   "source": [
    "## Self-refine, critique the results\n",
    "<div style=\"direction: rtl; font-family: 'Amiri', serif;\">\n",
    "\n",
    "مع الذكاء الاصطناعي التوليدي ومسؤولي إدارة الأعمال، لا يمكنك الوثوق بالمخرجات. تحتاج إلى التحقق من ذلك. بعد كل شيء، فإن LLM تقدم لك فقط ما هو الشيء التالي الذي من المرجح أن تقوله، وليس ما هو صحيح. ولذلك، فمن الجيد أن نطلب من ماجستير القانون أن ينتقد نفسه، وهو ما يقودنا إلى أسلوب التحسين الذاتي.\n",
    "\n",
    "وطريقة العمل هي أن تتبع الخطوات التالية:\n",
    "\n",
    "(1)  المطالبة الأولية التي تطلب من LLM حل مشكلة ما\n",
    "\n",
    "(2)  إجابات LLM\n",
    "\n",
    "(3)  أنت تنتقد الإجابة وتطلب من الذكاء الاصطناعي التحسين\n",
    "\n",
    "(4)  تجيب LLM مرة أخرى، هذه المرة مع الأخذ في الاعتبار النقد واقتراح الحلول التي توصلت إليها\n",
    "يمكنك تكرار هذه العملية عدة مرات كما تريد.\n",
    "\n",
    "فيما يلي مثال لاستخدام هذه التقنية:\n",
    "\n",
    "رسالة مطالبة: \"إنشاء واجهة برمجة تطبيقات ويب Python مع مسارات المنتجات والعملاء\"\n",
    "\n",
    "\n",
    "</div>"
   ]
  },
  {
   "cell_type": "code",
   "execution_count": 17,
   "id": "8d307b61-a2c6-4347-83ba-7b8904a5f468",
   "metadata": {},
   "outputs": [
    {
     "name": "stdout",
     "output_type": "stream",
     "text": [
      "علم البيانات هو مجال تحليل البيانات واستخلاص المعرفة والإبداع منها. وفيما يلي خمس نقاط تلخص علم البيانات:\n",
      "\n",
      "1. جمع البيانات: يتضمن علم البيانات جمع البيانات من مصادر متعددة مثل قواعد البيانات، والشبكات الاجتماعية، والأجهزة الذكية وغيرها من المصادر.\n",
      "\n",
      "2. تحليل البيانات: يشمل علم البيانات استخدام أدوات التحليل والتعلم الآلي لفهم البيانات واستخلاص المعلومات القيمة منها. يتضمن ذلك تنظيف البيانات، واكتشاف الانماط والتصنيف، وبناء النماذج التي تتنبأ بالمستقبل وتحلل المشاكل.\n",
      "\n",
      "3. الرسومات البيانية والتصور: يستخدم علم البيانات تقنيات الرسومات البيانية والتصور لتمثيل البيانات بشكل بصري وفهم أفضل للانماط والترابطات بين البيانات.\n",
      "\n",
      "4. استغلال البيانات في صنع القرارات: يساعد علم البيانات في تحويل البيانات إلى معلومات قابلة للاستخدام في صنع القرارات الهامة في المؤسسات والشركات وغيرها من المجالات.\n",
      "\n",
      "5. التحليل التنبؤي: يستخدم علم البيانات النماذج الاحصائية وتقنيات التعلم الآلي للتنبؤ بالمستقبل، مثل توقعات المبيعات، ومشاكل الصحة، وتوجهات السوق وغيرها.\n"
     ]
    }
   ],
   "source": [
    "text = f\"\"\"\n",
    "\n",
    "لخص علم البيانات في 5 نقاط\n",
    "\n",
    "\"\"\"\n",
    "\n",
    "response = openai.chat.completions.create(\n",
    "    model=\"gpt-3.5-turbo\",\n",
    "    messages=[\n",
    "        # System message setting the context for assistant behavior or personality.\n",
    "        {\"role\": \"system\", \"content\": \"Data science expert\"},\n",
    "        {\"role\": \"user\", \"content\": f'{text}'},\n",
    "        \n",
    "    ]\n",
    ")\n",
    "print(response.choices[0].message.content)"
   ]
  },
  {
   "cell_type": "code",
   "execution_count": 18,
   "id": "16ce9a39-289b-447e-828b-8a1087191042",
   "metadata": {},
   "outputs": [
    {
     "name": "stdout",
     "output_type": "stream",
     "text": [
      "<!DOCTYPE html>\n",
      "<html>\n",
      "<head>\n",
      "<meta charset=\"UTF-8\">\n",
      "<style>\n",
      "\tbody {\n",
      "\t\tfont-family: Arial, sans-serif;\n",
      "\t}\n",
      "\n",
      "\th1 {\n",
      "\t\tcolor: #273c75;\n",
      "\t\ttext-align: center;\n",
      "\t}\n",
      "\n",
      "\tp {\n",
      "\t\tcolor: #4b6584;\n",
      "\t\ttext-align: justify;\n",
      "\t}\n",
      "</style>\n",
      "</head>\n",
      "<body>\n",
      "\t<h1>مختص في علم البيانات</h1>\n",
      "\t<p>علم البيانات هو مجال تحليل البيانات واستخلاص المعرفة والإبداع منها. وفيما يلي خمس نقاط تلخص علم البيانات:</p>\n",
      "\t<ol>\n",
      "\t\t<li>جمع البيانات: يتضمن علم البيانات جمع البيانات من مصادر متعددة مثل قواعد البيانات، والشبكات الاجتماعية، والأجهزة الذكية وغيرها من المصادر.</li>\n",
      "\t\t<li>تحليل البيانات: يشمل علم البيانات استخدام أدوات التحليل والتعلم الآلي لفهم البيانات واستخلاص المعلومات القيمة منها. يتضمن ذلك تنظيف البيانات، واكتشاف الانماط والتصنيف، وبناء النماذج التي تتنبأ بالمستقبل وتحلل المشاكل.</li>\n",
      "\t\t<li>الرسومات البيانية والتصور: يستخدم علم البيانات تقنيات الرسومات البيانية والتصور لتمثيل البيانات بشكل بصري وفهم أفضل للانماط والترابطات بين البيانات.</li>\n",
      "\t\t<li>استغلال البيانات في صنع القرارات: يساعد علم البيانات في تحويل البيانات إلى معلومات قابلة للاستخدام في صنع القرارات الهامة في المؤسسات والشركات وغيرها من المجالات.</li>\n",
      "\t\t<li>التحليل التنبؤي: يستخدم علم البيانات النماذج الاحصائية وتقنيات التعلم الآلي للتنبؤ بالمستقبل، مثل توقعات المبيعات، ومشاكل الصحة، وتوجهات السوق وغيرها.</li>\n",
      "\t</ol>\n",
      "</body>\n",
      "</html>\n"
     ]
    }
   ],
   "source": [
    "\n",
    "text1 = f\"\"\"\n",
    "ارسل النتيجة بصيغة \n",
    "HTML\n",
    "بتنسيق مناسب للغة العربية\n",
    "\"\"\"\n",
    "\n",
    "response = openai.chat.completions.create(\n",
    "    model=\"gpt-3.5-turbo\",\n",
    "    messages=[\n",
    "        # System message setting the context for assistant behavior or personality.\n",
    "        {\"role\": \"system\", \"content\": \"Data science expert\"},\n",
    "        {\"role\": \"user\", \"content\": f'{text}'},\n",
    "        {\"role\": \"assistant\", \"content\": f'{response}'},\n",
    "        {\"role\": \"user\", \"content\": f'{text1}'}\n",
    "    ]\n",
    ")\n",
    "print(response.choices[0].message.content)"
   ]
  },
  {
   "cell_type": "code",
   "execution_count": 19,
   "id": "27fdf4b1-4e1d-4995-9b73-5dafb5321006",
   "metadata": {},
   "outputs": [
    {
     "data": {
      "text/html": [
       "<!DOCTYPE html>\n",
       "<html>\n",
       "<head>\n",
       "<meta charset=\"UTF-8\">\n",
       "<style>\n",
       "\tbody {\n",
       "\t\tfont-family: Arial, sans-serif;\n",
       "\t}\n",
       "\n",
       "\th1 {\n",
       "\t\tcolor: #273c75;\n",
       "\t\ttext-align: center;\n",
       "\t}\n",
       "\n",
       "\tp {\n",
       "\t\tcolor: #4b6584;\n",
       "\t\ttext-align: justify;\n",
       "\t}\n",
       "</style>\n",
       "</head>\n",
       "<body>\n",
       "\t<h1>مختص في علم البيانات</h1>\n",
       "\t<p>علم البيانات هو مجال تحليل البيانات واستخلاص المعرفة والإبداع منها. وفيما يلي خمس نقاط تلخص علم البيانات:</p>\n",
       "\t<ol>\n",
       "\t\t<li>جمع البيانات: يتضمن علم البيانات جمع البيانات من مصادر متعددة مثل قواعد البيانات، والشبكات الاجتماعية، والأجهزة الذكية وغيرها من المصادر.</li>\n",
       "\t\t<li>تحليل البيانات: يشمل علم البيانات استخدام أدوات التحليل والتعلم الآلي لفهم البيانات واستخلاص المعلومات القيمة منها. يتضمن ذلك تنظيف البيانات، واكتشاف الانماط والتصنيف، وبناء النماذج التي تتنبأ بالمستقبل وتحلل المشاكل.</li>\n",
       "\t\t<li>الرسومات البيانية والتصور: يستخدم علم البيانات تقنيات الرسومات البيانية والتصور لتمثيل البيانات بشكل بصري وفهم أفضل للانماط والترابطات بين البيانات.</li>\n",
       "\t\t<li>استغلال البيانات في صنع القرارات: يساعد علم البيانات في تحويل البيانات إلى معلومات قابلة للاستخدام في صنع القرارات الهامة في المؤسسات والشركات وغيرها من المجالات.</li>\n",
       "\t\t<li>التحليل التنبؤي: يستخدم علم البيانات النماذج الاحصائية وتقنيات التعلم الآلي للتنبؤ بالمستقبل، مثل توقعات المبيعات، ومشاكل الصحة، وتوجهات السوق وغيرها.</li>\n",
       "\t</ol>\n",
       "</body>\n",
       "</html>"
      ],
      "text/plain": [
       "<IPython.core.display.HTML object>"
      ]
     },
     "metadata": {},
     "output_type": "display_data"
    }
   ],
   "source": [
    "from IPython.display import display, HTML\n",
    "\n",
    "\n",
    "# Display the HTML\n",
    "display(HTML(response.choices[0].message.content))"
   ]
  },
  {
   "cell_type": "code",
   "execution_count": null,
   "id": "3de567cc-f968-4b6e-898d-cf2a19b0267b",
   "metadata": {},
   "outputs": [],
   "source": [
    "<div style=\"direction: rtl; font-family: 'Amiri', serif;\">\n",
    "\n",
    "\n",
    "\n",
    "</div>"
   ]
  },
  {
   "cell_type": "markdown",
   "id": "58711033-f19d-4250-88f7-223088f150d0",
   "metadata": {},
   "source": [
    "## Maieutic prompting\n",
    "Maieutic prompting is a technique that is similar to self-refine but it's more about asking the LLM to explain itself. The goal is to reduce inconsistencies in the LLM's output so to ensure it arrives at the correct answer. The workflow to follow is:\n",
    "\n",
    "```\n",
    "1. Ask the LLM to answer a question\n",
    "2. For each part of the answer, ask the LLM to explain it more in depth.\n",
    "3. If there are inconsistencies, discard the parts that are inconsistent.\n",
    "```\n",
    "Repeat 2 and 3 until you've gone through all the parts and you're satisfied with the answer."
   ]
  },
  {
   "cell_type": "code",
   "execution_count": 2,
   "id": "8ee1295e-1519-4ff8-bdf9-a3731e90521f",
   "metadata": {},
   "outputs": [
    {
     "name": "stdout",
     "output_type": "stream",
     "text": [
      "خطوة جمع البيانات هي العملية التي تشمل جمع المعلومات والبيانات اللازمة لتحليلها واستخدامها في علم البيانات. يمكن تقسيم هذه الخطوة إلى عدة مراحل:\n",
      "\n",
      "1. تحديد المصدر: يجب أولاً تحديد المصدر الذي ستأتي منه البيانات. يمكن أن يكون المصدر موقع ويب، قاعدة بيانات، ملفات نصية، أجهزة استشعار، وغيرها.\n",
      "\n",
      "2. تحديد البيانات المطلوبة: بعد تحديد المصدر، يجب تحديد البيانات التي يجب جمعها. يمكن أن تكون هذه البيانات محددة مسبقاً بناءً على الأهداف المحددة للتحليل أو يمكن أن تتم بناءً على البيانات المتاحة في المصدر.\n",
      "\n",
      "3. تنفيذ عملية الجمع: تشمل هذه الخطوة استخدام أدوات وتقنيات مختلفة لجمع البيانات من المصدر المحدد. يمكن استخدام أدوات التحليل الاحصائي والبرمجة لاسترجاع البيانات وتخزينها في شكل يمكن التعامل معه.\n",
      "\n",
      "4. التحقق وتنقيح البيانات: بعد جمع البيانات، يجب التحقق من صحتها واكتمالها. قد يتطلب ذلك التحقق من القيم المفقودة، التعامل مع القيم الغير صحيحة أو غير المنطقية، وتصويب الأخطاء المحتملة.\n",
      "\n",
      "5. تخزين البيانات: يجب تخزين البيانات المجمعة في مكان يسهل الوصول إليه واستخدامه لاحقاً. يمكن استخدام قواعد البيانات أو أنظمة تخزين البيانات الأخرى لهذا الغرض.\n",
      "\n",
      "تتبع هذه العملية أفضل الممارسات لضمان جودة البيانات والحفاظ على سرية وأمان البيانات المجمعة.\n"
     ]
    }
   ],
   "source": [
    "text = f\"\"\"\n",
    "\n",
    "لخص علم البيانات في 5 نقاط\n",
    "\n",
    "\"\"\"\n",
    "\n",
    "response = openai.chat.completions.create(\n",
    "    model=\"gpt-3.5-turbo\",\n",
    "    messages=[\n",
    "        # System message setting the context for assistant behavior or personality.\n",
    "        {\"role\": \"system\", \"content\": \"Data science expert\"},\n",
    "        {\"role\": \"user\", \"content\": f'{text}'},\n",
    "        \n",
    "    ]\n",
    ")\n",
    "\n",
    "text1 = f\"\"\"\n",
    "\n",
    "اشرح خطوة جمع البيانات بالتفصيل\n",
    "\n",
    "\"\"\"\n",
    "\n",
    "response = openai.chat.completions.create(\n",
    "    model=\"gpt-3.5-turbo\",\n",
    "    messages=[\n",
    "        # System message setting the context for assistant behavior or personality.\n",
    "        {\"role\": \"system\", \"content\": \"Data science expert\"},\n",
    "        {\"role\": \"user\", \"content\": f'{text}'},\n",
    "        {\"role\": \"assistant\", \"content\": f'{response}'},\n",
    "        {\"role\": \"user\", \"content\": f'{text1}'}\n",
    "    ]\n",
    ")\n",
    "\n",
    "print(response.choices[0].message.content)"
   ]
  },
  {
   "cell_type": "code",
   "execution_count": null,
   "id": "afa9621e-bd04-408c-8acd-d7b22a83f118",
   "metadata": {},
   "outputs": [],
   "source": []
  }
 ],
 "metadata": {
  "kernelspec": {
   "display_name": "Python 3 (ipykernel)",
   "language": "python",
   "name": "python3"
  },
  "language_info": {
   "codemirror_mode": {
    "name": "ipython",
    "version": 3
   },
   "file_extension": ".py",
   "mimetype": "text/x-python",
   "name": "python",
   "nbconvert_exporter": "python",
   "pygments_lexer": "ipython3",
   "version": "3.12.0"
  }
 },
 "nbformat": 4,
 "nbformat_minor": 5
}
